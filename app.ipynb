{
 "cells": [
  {
   "cell_type": "code",
   "execution_count": 1,
   "metadata": {},
   "outputs": [
    {
     "name": "stderr",
     "output_type": "stream",
     "text": [
      "c:\\Users\\USER\\Chat bot\\chatbot\\lib\\site-packages\\tqdm\\auto.py:21: TqdmWarning: IProgress not found. Please update jupyter and ipywidgets. See https://ipywidgets.readthedocs.io/en/stable/user_install.html\n",
      "  from .autonotebook import tqdm as notebook_tqdm\n"
     ]
    }
   ],
   "source": [
    "from langchain.text_splitter import RecursiveCharacterTextSplitter\n",
    "from langchain.embeddings import HuggingFaceEmbeddings\n",
    "from langchain.vectorstores import FAISS\n",
    "from transformers import AutoTokenizer, AutoModelForQuestionAnswering\n",
    "from transformers import AutoTokenizer, pipeline\n",
    "from langchain import HuggingFacePipeline\n",
    "from langchain.chains import RetrievalQA\n",
    "from langchain_community.document_loaders import PyPDFLoader\n",
    "from langchain.prompts import PromptTemplate\n",
    "\n"
   ]
  },
  {
   "cell_type": "code",
   "execution_count": 2,
   "metadata": {},
   "outputs": [],
   "source": [
    "loader = PyPDFLoader(\"Ai.pdf\")\n",
    "pages = loader.load()"
   ]
  },
  {
   "cell_type": "code",
   "execution_count": 3,
   "metadata": {},
   "outputs": [
    {
     "data": {
      "text/plain": [
       "[Document(page_content='www.ijecs.in  \\nInternational Journal Of Engineering And Computer Science  \\nVolume  12 Issue  02, February 2023 , Page  No.25654 -25656  \\nISSN:  2319 -7242  DOI: 10.18535/ijecs/v11i02 .4671  \\n \\n \\n \\n7  Ijecs 02 February Rajiv Gupta Research Paper on Artificial Intelligence  \\n \\nPage | \\n25654  Research  Paper  on Artificial  Intelligence  \\n \\nRajiv Gupta \\nChandigarh  University , Chandigarh ,  Haryana  \\n \\n \\nAbstract: This branch  of computer  science  is concerned  with making  computers  behave  like humans.  \\nArtificial  intelligence  includes  game  playing,  expert  systems,  neural  networks,  natural  language,  and robotics.  \\nCurrently,  no computers  exhibit  full artificial  intelligence  (that is, are able to simulate  human  behavior).  The \\ngreatest  advances  have occurred  in the field of games  playing.  The best computer  chess  programs  are now \\ncapable  of beating  humans.  Today,  the hottest  area of artificial  intelligence  is neural  networks,  which  are \\nproving  successful  in a number  of disciplines  such as voice  recognition  and natural -language  processing.  \\nThere  are several  programming  languages  that are known  as AI languages  because  they are used almost  \\nexclusive ly for AI applications . The two most  common  are LISP  and Prolog . Artificial  intelligence  is working  \\na lot in decreasing  human  effort  but with less growth.  \\n \\nKeywords: Data  mining,  Epistemology,  Ontology,  Heuristics,  optimization  \\nIntroduction  \\nArtificial  intelligence  is defined  as developing  \\n Wormhole (AKA the Einstein -Rosen Bridge) is a             \\ntheoretical concept and a solution to Einstein’\\nfield equations of general relativity. Simply put, \\nwormholes are tunnels connecting two different \\nregions of space -time (Fig 2) (Darling, n.d.). \\nAlthough scientists are still unaware about the \\nimplications of the infinite curvature of spacetime in \\na black hole, they seem to be able to provide the \\nimmense forces of gravity required to curve space -\\ntime into a tunnel, thereby making wormholes a \\nplausible theory, but not one that is practical. Due to \\nthe infinite force of gravity in a black hole, a \\nwormhole wou ld collapse the moment it forms by \\nsinking into the black hole. Furthermore, to stabilize \\na wormhole, a substance known as “exotic matter” \\ni.e., matter with a negative mass, energy and density, \\nis required. Although this substance exists \\nmathematically, it  hasn’t been detected in the \\nobservable universe (Tillman et al, 2022). However, \\ncounter arguments have come forward in light of \\nnew research suggesting that if there is a quantum \\nconnection (Fig 3) between two black holes, “exotic \\nmatter” may not be requi red to stabilize the tunnel. If \\nsuch wormholes indeed do exist in black holes, then \\nquantum information entering the black hole will be \\nable to travel through the wormhole into another part \\nof the universe, thereby solving the paradox of loss of informatio n in a black hole (Wolchover, 2017). \\nHowever, as none of this research has empirical \\nevidence, no definitive claims can be made. As the \\nname suggests , white holes are fundamentall \\nopposite to black holes. While it is impossible to \\nescape from a black hole,  it would be impossible to \\nenter a white hole (Xiao, n.d.). Both white holes and \\nblack holes look similar in nature when observed \\nfrom space, however, the brief expulsion of matter is \\nwhat differentiates the two. Viewing a white hole \\nwould almost be like a  “time reversal” of viewing a \\nblack hole (Wood, 2022). However, white holes at \\nbest can be called an impossible possibility, mainly \\nbecause of two reasons. Firstly, for the existence of a \\nwhite hole on the other side of a black hole, a \\nwormhole would be re quired to exist inside the black \\nhole joining two regions of spacetime (Fig 4). As \\nseen above, it is highly unlikely for such a theory to \\nbe true. Secondly, white holes fail to obey the second \\nlaw of thermodynamics –entropy (a measure of how \\nmany different  states particles in a system can be in) \\nin the universe can either remain the same or it can \\nincrease; however.  computer  programs  to solve  \\ncomplex  problems  by applications  of processes  that \\nare analogo\\nAccording to the current mining situation and the bottoming scheme, it is preliminarily determined ', metadata={'source': 'Ai.pdf', 'page': 0}),\n",
       " Document(page_content='  Ijecs 02 February Rajiv Gupta Research Paper on Artificial Intelligence  \\n Page | \\n25655  that the hydraulic fracturing is carried out at the \\nlevel of -210 m to -434 m, with a hole depth of \\n224 m, at -210 m horizontal drilling downward \\nvertical drilling. Therefore, according to the \\nobtained final mi ning range at the level of -434 m \\nis measured, and it is finally determined that the \\nrange of parallel ore body strike of 850 m and \\nvertical ore body strike of 350 m is the hydraulic \\nfracturing construction area.  \\nMaternal health is the health care service of \\nwomen during pregnancy, childbirth, up to the \\npostpartum period. These services are provided \\nwith an intention to reduce maternal morbidity \\nand mortality ( 1, 2). ‘WHO indicates that \\nmaternal health should help the mother to fulfill \\nnatural experience th at is emotional to the mother \\nand reduce potential challenges where they suffer \\nhealth -wise and sometimes even death’. Prior to \\nCOVID -19 pandemic, maternal health was \\nalready affected by increased maternal mortality \\nand morbidity attributed to decreased so cial-\\neconomic status, cultural values and geographical \\nremoteness. These factors increase the risk for \\npregnancy -related illnesses, negative \\nconsequences after birth and maternal death more \\nin developing countries than in developed \\ncountries. Recently, the  COVID -19 pandemic is \\nfeared to have negative impact on maternal health \\n(3-5). Despite s ex-disaggregated data on SARS -\\nCoV2 mortalities suggesting more severe health \\noutcomes for men than women, there are concerns \\nthat the disease could disproportionately burden \\nwomen in a social and economic sense  (4, 6). \\nTherefore, it is a particularly significant question \\nwhether pregnant women are more susceptible to \\nSARS -CoV -2 or might develop severe disease \\noutcomes or suffer SARS -CoV2 associated \\nconsequences consider ing the impact of the \\npandemic and pandemic -control policies.  \\n \\n \\nFigure 5: Level -Propagation Radius line chart   \\nQuality Appraisal  \\nStudies were appraised for quality using critical \\nappraisal tools (CADIMA) for systematic reviews \\ndeveloped by the University of Adelaide, South \\nAustralia. A rating scale of 0 to 4 is used based on \\nthe following criteria/  \\nConsidering the deep -hole hydraulic fracturing \\nparameters in Northparks Copper Mine, \\nChuquicamata Copper Mine in Chile and other \\nsimilar mines, the current mini ng situation and \\neconomic factors, staggered hole layout is adopted \\nin the fracturing area, and the specific hydraulic \\nfracturing pretreatment parameters are shown in \\nTable 2.  \\n \\nDiscussion  \\nThe study is an effort to identify how an incident \\ncan create ripple  effect in the social media and \\nhow companies tried to cash in the opportunity. \\nThe paper is an effort to pose different questions \\nin front of researchers and companies. Future \\nresearch efforts in this area can give valuable \\ninsights for campaign creations  for different \\nbrands. This paper also can help future research \\nfor the comparison of celebrities and influencers \\nwith respect to advertising different brands and \\nfinally creating a strong brand image. There is a \\nneed for collecting primary data to substan tiate \\nthis in future and also more examples might be \\nrequired to give more insights into the \\nphenomenon of brand endorsement.  \\n \\nConclusion  \\nUntil  now we have discussed  about  the significant  \\nfeatures  of artificial  intelligence  i.e. it’s benefits,  \\ntechnologies , it’s precise  and a good  definition.  \\nNow  we can say that making  a machine  or say \\nrobot  is not as easy as an chu tiye ABC.  It is \\ndifficult  to make  a machine  like humans  which  \\ncan show  emotions  or think  like humans  in \\ndifferent  circumstances.  \\nNow  we have accepted  that artificial  intelligence  \\nis the study  of how to make  things  which  can \\nexactly  work  like humans  do. It is the way in \\nwhich  we think  sensibly,  act wisely,  think  like \\nhumans,  work  like humans.  W har am kh or e \\nknow  that through  artificial  intelligence,  even  \\ncomputer  has defeated  human  in chess.  So we can \\nsay that reaching  so far has not gone  waste,  \\nsomehow,  it is contributing  towards  the \\nadvancement  in the Artificial  intelligence.  \\nAt present,  there  is no computer  showing  full \\n', metadata={'source': 'Ai.pdf', 'page': 1}),\n",
       " Document(page_content=\" \\n  Ijecs 02 February Rajiv Gupta Research Paper on Artificial Intelligence  \\n Page | \\n25656  artificial  intelligence  m a d a r , but the c h o d \\ncourse  of making  machines  like ourselves  is on its \\npath.  \\n \\nFuture  Scope  \\nIt is not easy to predict  the future  of Artificial  \\nintelligence.  Artificial  intelligence  in the 90's was \\nfocused  just about  enhancing  human  \\ncircumstances.  But is that the only goal in the \\nfuture?  Research  is centered  on bho s adike  \\nconstructing  human -like machines  or robots.  This \\nis because  scientists  are concerned  in human  \\nintelligence  and are awestruck  by trying  to copy  \\nit. If machines  ma a k e la v de start doing  the \\nwork  done  by humans  then,  the role of humans  \\nwill definitely  change.  The hard work  of \\nresearchers  may pay them  off someday  and we \\nwill find our work  done  by machines  and a robot  \\nwalking  with us. \\n \\n \\n \\n \\n \\n \\n \\n \\n \\n \\n \\n \\n \\n \\n \\n \\n \\n \\n \\n \\n \\n \\n \\n \\n \\n \\n \\n \\n \\n \\n \\n \\n \\n References  \\n \\n[1] http://en.wikipedia.org/wiki/Artificial_intellig\\nen ce#CITEREFPooleMackworthGoebel1998  \\n[2] http://en.wi kipedia.org/wiki/Artificial_intellig\\nen ce#CITEREFRussellNorvig2003  \\n[3] www.cs.utexa s.edu/users/ear/AILongForSemi\\nna r.ppt  \\n[4] www.amodit.com/en/AMODIT/Artificial - \\n[5] intelligence -elements.aspx  \\n[6] www.militaryaiworks.com/tools.html  \\n \", metadata={'source': 'Ai.pdf', 'page': 2})]"
      ]
     },
     "execution_count": 3,
     "metadata": {},
     "output_type": "execute_result"
    }
   ],
   "source": [
    "pages"
   ]
  },
  {
   "cell_type": "code",
   "execution_count": 4,
   "metadata": {},
   "outputs": [],
   "source": [
    "text_splitter = RecursiveCharacterTextSplitter(chunk_size=1000,chunk_overlap=0,separators=\".\")\n",
    "\n",
    "# 'data' holds the text you want to split, split the text into documents using the text splitter.\n",
    "docs = text_splitter.split_documents(pages)"
   ]
  },
  {
   "cell_type": "code",
   "execution_count": 5,
   "metadata": {},
   "outputs": [
    {
     "data": {
      "text/plain": [
       "[Document(page_content='www.ijecs.in  \\nInternational Journal Of Engineering And Computer Science  \\nVolume  12 Issue  02, February 2023 , Page  No.25654 -25656  \\nISSN:  2319 -7242  DOI: 10.18535/ijecs/v11i02 .4671  \\n \\n \\n \\n7  Ijecs 02 February Rajiv Gupta Research Paper on Artificial Intelligence  \\n \\nPage | \\n25654  Research  Paper  on Artificial  Intelligence  \\n \\nRajiv Gupta \\nChandigarh  University , Chandigarh ,  Haryana  \\n \\n \\nAbstract: This branch  of computer  science  is concerned  with making  computers  behave  like humans.  \\nArtificial  intelligence  includes  game  playing,  expert  systems,  neural  networks,  natural  language,  and robotics.  \\nCurrently,  no computers  exhibit  full artificial  intelligence  (that is, are able to simulate  human  behavior).  The \\ngreatest  advances  have occurred  in the field of games  playing.  The best computer  chess  programs  are now \\ncapable  of beating  humans', metadata={'source': 'Ai.pdf', 'page': 0}),\n",
       " Document(page_content='.  Today,  the hottest  area of artificial  intelligence  is neural  networks,  which  are \\nproving  successful  in a number  of disciplines  such as voice  recognition  and natural -language  processing.  \\nThere  are several  programming  languages  that are known  as AI languages  because  they are used almost  \\nexclusive ly for AI applications . The two most  common  are LISP  and Prolog . Artificial  intelligence  is working  \\na lot in decreasing  human  effort  but with less growth.  \\n \\nKeywords: Data  mining,  Epistemology,  Ontology,  Heuristics,  optimization  \\nIntroduction  \\nArtificial  intelligence  is defined  as developing  \\n Wormhole (AKA the Einstein -Rosen Bridge) is a             \\ntheoretical concept and a solution to Einstein’\\nfield equations of general relativity. Simply put, \\nwormholes are tunnels connecting two different \\nregions of space -time (Fig 2) (Darling, n.d.)', metadata={'source': 'Ai.pdf', 'page': 0}),\n",
       " Document(page_content='. \\nAlthough scientists are still unaware about the \\nimplications of the infinite curvature of spacetime in \\na black hole, they seem to be able to provide the \\nimmense forces of gravity required to curve space -\\ntime into a tunnel, thereby making wormholes a \\nplausible theory, but not one that is practical. Due to \\nthe infinite force of gravity in a black hole, a \\nwormhole wou ld collapse the moment it forms by \\nsinking into the black hole. Furthermore, to stabilize \\na wormhole, a substance known as “exotic matter” \\ni.e., matter with a negative mass, energy and density, \\nis required. Although this substance exists \\nmathematically, it  hasn’t been detected in the \\nobservable universe (Tillman et al, 2022). However, \\ncounter arguments have come forward in light of \\nnew research suggesting that if there is a quantum \\nconnection (Fig 3) between two black holes, “exotic \\nmatter” may not be requi red to stabilize the tunnel', metadata={'source': 'Ai.pdf', 'page': 0}),\n",
       " Document(page_content='. If \\nsuch wormholes indeed do exist in black holes, then \\nquantum information entering the black hole will be \\nable to travel through the wormhole into another part \\nof the universe, thereby solving the paradox of loss of informatio n in a black hole (Wolchover, 2017). \\nHowever, as none of this research has empirical \\nevidence, no definitive claims can be made. As the \\nname suggests , white holes are fundamentall \\nopposite to black holes. While it is impossible to \\nescape from a black hole,  it would be impossible to \\nenter a white hole (Xiao, n.d.). Both white holes and \\nblack holes look similar in nature when observed \\nfrom space, however, the brief expulsion of matter is \\nwhat differentiates the two. Viewing a white hole \\nwould almost be like a  “time reversal” of viewing a \\nblack hole (Wood, 2022). However, white holes at \\nbest can be called an impossible possibility, mainly \\nbecause of two reasons', metadata={'source': 'Ai.pdf', 'page': 0}),\n",
       " Document(page_content='. Firstly, for the existence of a \\nwhite hole on the other side of a black hole, a \\nwormhole would be re quired to exist inside the black \\nhole joining two regions of spacetime (Fig 4). As \\nseen above, it is highly unlikely for such a theory to \\nbe true. Secondly, white holes fail to obey the second \\nlaw of thermodynamics –entropy (a measure of how \\nmany different  states particles in a system can be in) \\nin the universe can either remain the same or it can \\nincrease; however.  computer  programs  to solve  \\ncomplex  problems  by applications  of processes  that \\nare analogo\\nAccording to the current mining situation and the bottoming scheme, it is preliminarily determined', metadata={'source': 'Ai.pdf', 'page': 0}),\n",
       " Document(page_content='Ijecs 02 February Rajiv Gupta Research Paper on Artificial Intelligence  \\n Page | \\n25655  that the hydraulic fracturing is carried out at the \\nlevel of -210 m to -434 m, with a hole depth of \\n224 m, at -210 m horizontal drilling downward \\nvertical drilling. Therefore, according to the \\nobtained final mi ning range at the level of -434 m \\nis measured, and it is finally determined that the \\nrange of parallel ore body strike of 850 m and \\nvertical ore body strike of 350 m is the hydraulic \\nfracturing construction area.  \\nMaternal health is the health care service of \\nwomen during pregnancy, childbirth, up to the \\npostpartum period. These services are provided \\nwith an intention to reduce maternal morbidity \\nand mortality ( 1, 2). ‘WHO indicates that \\nmaternal health should help the mother to fulfill \\nnatural experience th at is emotional to the mother \\nand reduce potential challenges where they suffer \\nhealth -wise and sometimes even death’', metadata={'source': 'Ai.pdf', 'page': 1}),\n",
       " Document(page_content='. Prior to \\nCOVID -19 pandemic, maternal health was \\nalready affected by increased maternal mortality \\nand morbidity attributed to decreased so cial-\\neconomic status, cultural values and geographical \\nremoteness. These factors increase the risk for \\npregnancy -related illnesses, negative \\nconsequences after birth and maternal death more \\nin developing countries than in developed \\ncountries. Recently, the  COVID -19 pandemic is \\nfeared to have negative impact on maternal health \\n(3-5). Despite s ex-disaggregated data on SARS -\\nCoV2 mortalities suggesting more severe health \\noutcomes for men than women, there are concerns \\nthat the disease could disproportionately burden \\nwomen in a social and economic sense  (4, 6). \\nTherefore, it is a particularly significant question \\nwhether pregnant women are more susceptible to \\nSARS -CoV -2 or might develop severe disease \\noutcomes or suffer SARS -CoV2 associated \\nconsequences consider ing the impact of the \\npandemic and pandemic -control policies', metadata={'source': 'Ai.pdf', 'page': 1}),\n",
       " Document(page_content='.  \\n \\n \\nFigure 5: Level -Propagation Radius line chart   \\nQuality Appraisal  \\nStudies were appraised for quality using critical \\nappraisal tools (CADIMA) for systematic reviews \\ndeveloped by the University of Adelaide, South \\nAustralia. A rating scale of 0 to 4 is used based on \\nthe following criteria/  \\nConsidering the deep -hole hydraulic fracturing \\nparameters in Northparks Copper Mine, \\nChuquicamata Copper Mine in Chile and other \\nsimilar mines, the current mini ng situation and \\neconomic factors, staggered hole layout is adopted \\nin the fracturing area, and the specific hydraulic \\nfracturing pretreatment parameters are shown in \\nTable 2.  \\n \\nDiscussion  \\nThe study is an effort to identify how an incident \\ncan create ripple  effect in the social media and \\nhow companies tried to cash in the opportunity. \\nThe paper is an effort to pose different questions \\nin front of researchers and companies', metadata={'source': 'Ai.pdf', 'page': 1}),\n",
       " Document(page_content='. Future \\nresearch efforts in this area can give valuable \\ninsights for campaign creations  for different \\nbrands. This paper also can help future research \\nfor the comparison of celebrities and influencers \\nwith respect to advertising different brands and \\nfinally creating a strong brand image. There is a \\nneed for collecting primary data to substan tiate \\nthis in future and also more examples might be \\nrequired to give more insights into the \\nphenomenon of brand endorsement.  \\n \\nConclusion  \\nUntil  now we have discussed  about  the significant  \\nfeatures  of artificial  intelligence  i.e. it’s benefits,  \\ntechnologies , it’s precise  and a good  definition.  \\nNow  we can say that making  a machine  or say \\nrobot  is not as easy as an chu tiye ABC.  It is \\ndifficult  to make  a machine  like humans  which  \\ncan show  emotions  or think  like humans  in \\ndifferent  circumstances', metadata={'source': 'Ai.pdf', 'page': 1}),\n",
       " Document(page_content='.  \\nNow  we have accepted  that artificial  intelligence  \\nis the study  of how to make  things  which  can \\nexactly  work  like humans  do. It is the way in \\nwhich  we think  sensibly,  act wisely,  think  like \\nhumans,  work  like humans.  W har am kh or e \\nknow  that through  artificial  intelligence,  even  \\ncomputer  has defeated  human  in chess.  So we can \\nsay that reaching  so far has not gone  waste,  \\nsomehow,  it is contributing  towards  the \\nadvancement  in the Artificial  intelligence.  \\nAt present,  there  is no computer  showing  full', metadata={'source': 'Ai.pdf', 'page': 1}),\n",
       " Document(page_content=\"Ijecs 02 February Rajiv Gupta Research Paper on Artificial Intelligence  \\n Page | \\n25656  artificial  intelligence  m a d a r , but the c h o d \\ncourse  of making  machines  like ourselves  is on its \\npath.  \\n \\nFuture  Scope  \\nIt is not easy to predict  the future  of Artificial  \\nintelligence.  Artificial  intelligence  in the 90's was \\nfocused  just about  enhancing  human  \\ncircumstances.  But is that the only goal in the \\nfuture?  Research  is centered  on bho s adike  \\nconstructing  human -like machines  or robots.  This \\nis because  scientists  are concerned  in human  \\nintelligence  and are awestruck  by trying  to copy  \\nit. If machines  ma a k e la v de start doing  the \\nwork  done  by humans  then,  the role of humans  \\nwill definitely  change.  The hard work  of \\nresearchers  may pay them  off someday  and we \\nwill find our work  done  by machines  and a robot  \\nwalking  with us\", metadata={'source': 'Ai.pdf', 'page': 2}),\n",
       " Document(page_content='. \\n \\n \\n \\n \\n \\n \\n \\n \\n \\n \\n \\n \\n \\n \\n \\n \\n \\n \\n \\n \\n \\n \\n \\n \\n \\n \\n \\n \\n \\n \\n \\n \\n \\n References  \\n \\n[1] http://en.wikipedia.org/wiki/Artificial_intellig\\nen ce#CITEREFPooleMackworthGoebel1998  \\n[2] http://en.wi kipedia.org/wiki/Artificial_intellig\\nen ce#CITEREFRussellNorvig2003  \\n[3] www.cs.utexa s.edu/users/ear/AILongForSemi\\nna r.ppt  \\n[4] www.amodit.com/en/AMODIT/Artificial - \\n[5] intelligence -elements.aspx  \\n[6] www.militaryaiworks.com/tools.html', metadata={'source': 'Ai.pdf', 'page': 2})]"
      ]
     },
     "execution_count": 5,
     "metadata": {},
     "output_type": "execute_result"
    }
   ],
   "source": [
    "docs"
   ]
  },
  {
   "cell_type": "code",
   "execution_count": 6,
   "metadata": {},
   "outputs": [
    {
     "name": "stderr",
     "output_type": "stream",
     "text": [
      "c:\\Users\\USER\\Chat bot\\chatbot\\lib\\site-packages\\langchain_core\\_api\\deprecation.py:119: LangChainDeprecationWarning: The class `HuggingFaceEmbeddings` was deprecated in LangChain 0.2.2 and will be removed in 0.3.0. An updated version of the class exists in the langchain-huggingface package and should be used instead. To use it run `pip install -U langchain-huggingface` and import as `from langchain_huggingface import HuggingFaceEmbeddings`.\n",
      "  warn_deprecated(\n"
     ]
    }
   ],
   "source": [
    "# Define the path to the pre-trained model you want to use\n",
    "modelPath = \"sentence-transformers/all-MiniLM-l6-v2\"\n",
    "\n",
    "# Create a dictionary with model configuration options, specifying to use the CPU for computations\n",
    "model_kwargs = {'device':'cpu'}\n",
    "\n",
    "# Create a dictionary with encoding options, specifically setting 'normalize_embeddings' to False\n",
    "encode_kwargs = {'normalize_embeddings': False}\n",
    "\n",
    "# Initialize an instance of HuggingFaceEmbeddings with the specified parameters\n",
    "embeddings = HuggingFaceEmbeddings(\n",
    "    model_name=modelPath,     # Provide the pre-trained model's path\n",
    "    model_kwargs=model_kwargs, # Pass the model configuration options\n",
    "    encode_kwargs=encode_kwargs # Pass the encoding options\n",
    ")"
   ]
  },
  {
   "cell_type": "code",
   "execution_count": 7,
   "metadata": {},
   "outputs": [],
   "source": [
    "db = FAISS.from_documents(docs, embeddings)"
   ]
  },
  {
   "cell_type": "code",
   "execution_count": 8,
   "metadata": {},
   "outputs": [
    {
     "data": {
      "text/plain": [
       "<langchain_community.vectorstores.faiss.FAISS at 0x2ebf93f6d90>"
      ]
     },
     "execution_count": 8,
     "metadata": {},
     "output_type": "execute_result"
    }
   ],
   "source": [
    "db"
   ]
  },
  {
   "cell_type": "code",
   "execution_count": 12,
   "metadata": {},
   "outputs": [],
   "source": [
    "question = \"what is intelligence?\"\n",
    "searchDocs = db.similarity_search(question)\n",
    "context=searchDocs[2].page_content"
   ]
  },
  {
   "cell_type": "code",
   "execution_count": 17,
   "metadata": {},
   "outputs": [
    {
     "data": {
      "text/plain": [
       "4"
      ]
     },
     "execution_count": 17,
     "metadata": {},
     "output_type": "execute_result"
    }
   ],
   "source": [
    "len(searchDocs)"
   ]
  },
  {
   "cell_type": "code",
   "execution_count": 28,
   "metadata": {},
   "outputs": [],
   "source": [
    "# Create a tokenizer object by loading the pretrained \"Intel/dynamic_tinybert\" tokenizer.\n",
    "tokenizer = AutoTokenizer.from_pretrained(\"Intel/dynamic_tinybert\")\n",
    "\n",
    "# Create a question-answering model object by loading the pretrained \"Intel/dynamic_tinybert\" model.\n",
    "model = AutoModelForQuestionAnswering.from_pretrained(\"Intel/dynamic_tinybert\")"
   ]
  },
  {
   "cell_type": "code",
   "execution_count": 29,
   "metadata": {},
   "outputs": [],
   "source": [
    "model_name = \"Intel/dynamic_tinybert\"\n",
    "\n",
    "# Load the tokenizer associated with the specified model\n",
    "tokenizer = AutoTokenizer.from_pretrained(model_name, padding=True, truncation=True, max_length=512,max_token_length=512)\n",
    "\n",
    "# Define a question-answering pipeline using the model and tokenizer\n",
    "question_answerer = pipeline(\n",
    "    \"question-answering\", \n",
    "    model=model_name, \n",
    "    tokenizer=tokenizer,\n",
    "    return_tensors='pt',\n",
    "    max_answer_len=512\n",
    ")\n",
    "\n"
   ]
  },
  {
   "cell_type": "code",
   "execution_count": 30,
   "metadata": {},
   "outputs": [
    {
     "data": {
      "text/plain": [
       "{'score': 0.16465994715690613,\n",
       " 'start': 470,\n",
       " 'end': 508,\n",
       " 'answer': 'making  computers  behave  like humans'}"
      ]
     },
     "execution_count": 30,
     "metadata": {},
     "output_type": "execute_result"
    }
   ],
   "source": [
    "question_answerer(question=question, context=context)"
   ]
  },
  {
   "cell_type": "code",
   "execution_count": null,
   "metadata": {},
   "outputs": [],
   "source": []
  },
  {
   "cell_type": "code",
   "execution_count": null,
   "metadata": {},
   "outputs": [],
   "source": []
  }
 ],
 "metadata": {
  "kernelspec": {
   "display_name": "chatbot",
   "language": "python",
   "name": "python3"
  },
  "language_info": {
   "codemirror_mode": {
    "name": "ipython",
    "version": 3
   },
   "file_extension": ".py",
   "mimetype": "text/x-python",
   "name": "python",
   "nbconvert_exporter": "python",
   "pygments_lexer": "ipython3",
   "version": "3.8.5"
  }
 },
 "nbformat": 4,
 "nbformat_minor": 2
}
